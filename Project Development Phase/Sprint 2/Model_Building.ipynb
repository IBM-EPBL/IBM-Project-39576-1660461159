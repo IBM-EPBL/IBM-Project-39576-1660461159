{
  "cells": [
    {
      "cell_type": "code",
      "execution_count": null,
      "metadata": {
        "colab": {
          "base_uri": "https://localhost:8080/"
        },
        "id": "5rn28ktm0xaw",
        "outputId": "1fa9220e-f079-4769-bbe5-2641d7be74bc"
      },
      "outputs": [
        {
          "name": "stdout",
          "output_type": "stream",
          "text": [
            "Mounted at /content/drive\n"
          ]
        }
      ],
      "source": [
        "from google.colab import drive\n",
        "drive.mount('/content/drive')"
      ]
    },
    {
      "cell_type": "markdown",
      "source": [
        "**Importing The ImageDataGenerator Library**"
      ],
      "metadata": {
        "id": "ensz8KNGY48_"
      }
    },
    {
      "cell_type": "code",
      "execution_count": null,
      "metadata": {
        "id": "2VA6RjTI34JD"
      },
      "outputs": [],
      "source": [
        "# For numerical analysis\n",
        "import numpy as np\n",
        "#open source used for both ML and DL for computation\n",
        "import tensorflow \n",
        "#it is a plain stack of Layers\n",
        "from tensorflow.keras.models import Sequential \n",
        " #A Layer consists of a tensor-in tensor-out computation function\n",
        "from tensorflow.keras import layers\n",
        "#Dense Layer is the regular deeply connected neural network Layer\n",
        "from tensorflow.keras.layers import Dense, Flatten\n",
        "#Faltten-used fot flattening the input or change the dimension\n",
        "from tensorflow.keras.layers import Conv2D, MaxPooling2D,Dropout #Convolutional layer\n",
        "#MaxPooling2D-for downsampling the image\n",
        "from keras.preprocessing.image import ImageDataGenerator"
      ]
    },
    {
      "cell_type": "code",
      "execution_count": null,
      "metadata": {
        "id": "nRElBbBj6qsc"
      },
      "outputs": [],
      "source": [
        "train_datagen = ImageDataGenerator(rescale=1./255,shear_range=0.2,zoom_range=0.2,horizontal_flip=True)\n",
        "test_datagen=ImageDataGenerator(rescale=1./255)"
      ]
    },
    {
      "cell_type": "markdown",
      "metadata": {
        "id": "rD23ZdampX5R"
      },
      "source": [
        "**Apply Image DataGenerator Functionality To Trainset And Testset**"
      ]
    },
    {
      "cell_type": "code",
      "execution_count": null,
      "metadata": {
        "colab": {
          "base_uri": "https://localhost:8080/"
        },
        "id": "RpuBlyZGnwKB",
        "outputId": "fffb3d75-1fce-4751-ce01-9c794f249988"
      },
      "outputs": [
        {
          "name": "stdout",
          "output_type": "stream",
          "text": [
            "Found 2627 images belonging to 5 classes.\n"
          ]
        }
      ],
      "source": [
        "#Applying Image DataGenerator Functionality To Trainset And Testset\n",
        "x_train = train_datagen.flow_from_directory(\n",
        "    r'/content/drive/MyDrive/Dataset-20221115T060812Z-001/Dataset/TRAIN_SET/TRAIN_SET',\n",
        "    target_size=(64, 64),batch_size=5,color_mode='rgb',class_mode='sparse')"
      ]
    },
    {
      "cell_type": "code",
      "execution_count": null,
      "metadata": {
        "colab": {
          "base_uri": "https://localhost:8080/"
        },
        "id": "Qs_16gJf63rv",
        "outputId": "634f1b50-0527-4270-a74a-a2943419fd9c"
      },
      "outputs": [
        {
          "name": "stdout",
          "output_type": "stream",
          "text": [
            "Found 1055 images belonging to 5 classes.\n"
          ]
        }
      ],
      "source": [
        "\n",
        "#Applying Image DataGenerator Functionality To Testset\n",
        "x_test = test_datagen.flow_from_directory(\n",
        "    r'/content/drive/MyDrive/Dataset-20221115T060812Z-001/Dataset/TEST_SET',\n",
        "    target_size=(64, 64),batch_size=5,color_mode='rgb',class_mode='sparse')"
      ]
    },
    {
      "cell_type": "code",
      "execution_count": null,
      "metadata": {
        "colab": {
          "base_uri": "https://localhost:8080/"
        },
        "id": "rM2V6bOZ7KbW",
        "outputId": "4ec25528-6b63-468c-caf7-cf5ed83a647d"
      },
      "outputs": [
        {
          "name": "stdout",
          "output_type": "stream",
          "text": [
            "{'APPLES': 0, 'BANANA': 1, 'ORANGE': 2, 'PINEAPPLE': 3, 'WATERMELON': 4}\n"
          ]
        }
      ],
      "source": [
        "#checking the number of classes\n",
        "print(x_train.class_indices)"
      ]
    },
    {
      "cell_type": "code",
      "execution_count": null,
      "metadata": {
        "colab": {
          "base_uri": "https://localhost:8080/"
        },
        "id": "Yyvb-YpI7QnM",
        "outputId": "884f53e3-8f50-4ccf-ff7c-2c75b77b83d4"
      },
      "outputs": [
        {
          "name": "stdout",
          "output_type": "stream",
          "text": [
            "{'APPLES': 0, 'BANANA': 1, 'ORANGE': 2, 'PINEAPPLE': 3, 'WATERMELON': 4}\n"
          ]
        }
      ],
      "source": [
        "#checking the number of classes\n",
        "print(x_test.class_indices)"
      ]
    },
    {
      "cell_type": "code",
      "execution_count": null,
      "metadata": {
        "colab": {
          "base_uri": "https://localhost:8080/"
        },
        "id": "SG43t1yfolJR",
        "outputId": "9036cc6f-a34d-4006-9378-e15dfb399f13"
      },
      "outputs": [
        {
          "data": {
            "text/plain": [
              "Counter({0: 606, 1: 445, 2: 479, 3: 622, 4: 475})"
            ]
          },
          "execution_count": 13,
          "metadata": {},
          "output_type": "execute_result"
        }
      ],
      "source": [
        "from collections import Counter as c\n",
        "c(x_train.labels)"
      ]
    },
    {
      "cell_type": "markdown",
      "metadata": {
        "id": "E5fBeS2u48IE"
      },
      "source": [
        "**Initializing the Model**"
      ]
    },
    {
      "cell_type": "code",
      "execution_count": null,
      "metadata": {
        "id": "8QXUOuAr3yVa"
      },
      "outputs": [],
      "source": [
        "model=Sequential()"
      ]
    },
    {
      "cell_type": "markdown",
      "source": [
        "**Adding CNN layers**"
      ],
      "metadata": {
        "id": "kR413zUxZFog"
      }
    },
    {
      "cell_type": "code",
      "execution_count": null,
      "metadata": {
        "id": "6axHU06I3yu6"
      },
      "outputs": [],
      "source": [
        "# Initializing the CNN classifier = Sequential()\n",
        "classifier = Sequential()\n",
        "# First convolution layer and pooling\n",
        "classifier.add(Conv2D(32,(3, 3), input_shape=(64, 64, 3),activation='relu')) \n",
        "classifier.add(MaxPooling2D(pool_size=(2, 2)))\n",
        "# Second convolution layer and pooling\n",
        "classifier.add(Conv2D(32, (3, 3), activation='relu'))\n",
        "# input_shape is going to be the pooled feature maps from the previous convolution layer \n",
        "classifier.add(MaxPooling2D(pool_size=(2, 2)))\n",
        "# Flattening the Layers\n",
        "classifier.add(Flatten())"
      ]
    },
    {
      "cell_type": "markdown",
      "source": [
        "**Adding Dense Layers**"
      ],
      "metadata": {
        "id": "1AOtCKwBZTvq"
      }
    },
    {
      "cell_type": "code",
      "source": [
        "# Adding fully connected Layer \n",
        "classifier.add(Dense (units=128, activation='relu'))\n",
        "classifier.add(Dense (units=5, activation='softmax')) # softmax for more than 2"
      ],
      "metadata": {
        "id": "zr7dmVavZZJJ"
      },
      "execution_count": 43,
      "outputs": []
    },
    {
      "cell_type": "code",
      "execution_count": null,
      "metadata": {
        "colab": {
          "base_uri": "https://localhost:8080/"
        },
        "id": "HUD2d2r_3y8P",
        "outputId": "d4193917-1260-4ad0-df3d-85675dcbed47"
      },
      "outputs": [
        {
          "name": "stdout",
          "output_type": "stream",
          "text": [
            "Model: \"sequential_1\"\n",
            "_________________________________________________________________\n",
            " Layer (type)                Output Shape              Param #   \n",
            "=================================================================\n",
            " conv2d (Conv2D)             (None, 62, 62, 32)        896       \n",
            "                                                                 \n",
            " max_pooling2d (MaxPooling2D  (None, 31, 31, 32)       0         \n",
            " )                                                               \n",
            "                                                                 \n",
            " conv2d_1 (Conv2D)           (None, 29, 29, 32)        9248      \n",
            "                                                                 \n",
            " max_pooling2d_1 (MaxPooling  (None, 14, 14, 32)       0         \n",
            " 2D)                                                             \n",
            "                                                                 \n",
            " flatten (Flatten)           (None, 6272)              0         \n",
            "                                                                 \n",
            " dense (Dense)               (None, 128)               802944    \n",
            "                                                                 \n",
            " dense_1 (Dense)             (None, 5)                 645       \n",
            "                                                                 \n",
            "=================================================================\n",
            "Total params: 813,733\n",
            "Trainable params: 813,733\n",
            "Non-trainable params: 0\n",
            "_________________________________________________________________\n"
          ]
        }
      ],
      "source": [
        "classifier.summary()"
      ]
    },
    {
      "cell_type": "markdown",
      "source": [
        "**Configure The Learning Process**"
      ],
      "metadata": {
        "id": "VQCf3oWpQ4a9"
      }
    },
    {
      "cell_type": "code",
      "execution_count": null,
      "metadata": {
        "colab": {
          "background_save": true
        },
        "id": "8jPUnXfk5piS"
      },
      "outputs": [],
      "source": [
        "\n",
        "classifier.compile(optimizer='adam', loss='sparse_categorical_crossentropy', metrics=['accuracy'])"
      ]
    },
    {
      "cell_type": "markdown",
      "source": [
        "**Train the model**"
      ],
      "metadata": {
        "id": "DDiUFAZMZkTT"
      }
    },
    {
      "cell_type": "code",
      "execution_count": null,
      "metadata": {
        "colab": {
          "background_save": true
        },
        "id": "E88NGXVI5pwB",
        "outputId": "c2a6b69b-3e77-490d-fc34-da2a52eb7b40"
      },
      "outputs": [
        {
          "name": "stdout",
          "output_type": "stream",
          "text": [
            "Epoch 1/20\n"
          ]
        },
        {
          "name": "stderr",
          "output_type": "stream",
          "text": [
            "/usr/local/lib/python3.7/dist-packages/ipykernel_launcher.py:4: UserWarning: `Model.fit_generator` is deprecated and will be removed in a future version. Please use `Model.fit`, which supports generators.\n",
            "  after removing the cwd from sys.path.\n"
          ]
        },
        {
          "name": "stdout",
          "output_type": "stream",
          "text": [
            "526/526 [==============================] - 975s 2s/step - loss: 0.0393 - accuracy: 0.9855 - val_loss: 0.0349 - val_accuracy: 0.9829\n",
            "Epoch 2/20\n",
            "526/526 [==============================] - 18s 35ms/step - loss: 2.0681e-04 - accuracy: 1.0000 - val_loss: 0.0176 - val_accuracy: 0.9896\n",
            "Epoch 3/20\n",
            "526/526 [==============================] - 18s 35ms/step - loss: 9.3619e-05 - accuracy: 1.0000 - val_loss: 0.0318 - val_accuracy: 0.9839\n",
            "Epoch 4/20\n",
            "526/526 [==============================] - 19s 35ms/step - loss: 4.3603e-05 - accuracy: 1.0000 - val_loss: 0.0353 - val_accuracy: 0.9829\n",
            "Epoch 5/20\n",
            "526/526 [==============================] - 19s 37ms/step - loss: 2.8767e-05 - accuracy: 1.0000 - val_loss: 0.0235 - val_accuracy: 0.9896\n",
            "Epoch 6/20\n",
            "526/526 [==============================] - 18s 35ms/step - loss: 0.1041 - accuracy: 0.9669 - val_loss: 0.6224 - val_accuracy: 0.9450\n",
            "Epoch 7/20\n",
            "526/526 [==============================] - 18s 34ms/step - loss: 5.0506e-04 - accuracy: 1.0000 - val_loss: 0.5786 - val_accuracy: 0.9469\n",
            "Epoch 8/20\n",
            "526/526 [==============================] - 18s 35ms/step - loss: 2.0825e-04 - accuracy: 1.0000 - val_loss: 0.5423 - val_accuracy: 0.9479\n",
            "Epoch 9/20\n",
            "526/526 [==============================] - 19s 35ms/step - loss: 7.1610e-05 - accuracy: 1.0000 - val_loss: 0.5368 - val_accuracy: 0.9498\n",
            "Epoch 10/20\n",
            "526/526 [==============================] - 18s 35ms/step - loss: 4.3838e-05 - accuracy: 1.0000 - val_loss: 0.5421 - val_accuracy: 0.9507\n",
            "Epoch 11/20\n",
            "526/526 [==============================] - 18s 35ms/step - loss: 0.0784 - accuracy: 0.9882 - val_loss: 0.4518 - val_accuracy: 0.9659\n",
            "Epoch 12/20\n",
            "526/526 [==============================] - 18s 34ms/step - loss: 2.5906e-04 - accuracy: 1.0000 - val_loss: 0.4333 - val_accuracy: 0.9678\n",
            "Epoch 13/20\n",
            "526/526 [==============================] - 18s 35ms/step - loss: 5.9202e-05 - accuracy: 1.0000 - val_loss: 0.4225 - val_accuracy: 0.9754\n",
            "Epoch 14/20\n",
            "526/526 [==============================] - 20s 38ms/step - loss: 6.6046e-06 - accuracy: 1.0000 - val_loss: 0.4056 - val_accuracy: 0.9754\n",
            "Epoch 15/20\n",
            "526/526 [==============================] - 18s 34ms/step - loss: 7.2141e-06 - accuracy: 1.0000 - val_loss: 0.4090 - val_accuracy: 0.9754\n",
            "Epoch 16/20\n",
            "526/526 [==============================] - 18s 35ms/step - loss: 4.7086e-06 - accuracy: 1.0000 - val_loss: 0.3914 - val_accuracy: 0.9763\n",
            "Epoch 17/20\n",
            "526/526 [==============================] - 18s 35ms/step - loss: 2.1180e-06 - accuracy: 1.0000 - val_loss: 0.3838 - val_accuracy: 0.9773\n",
            "Epoch 18/20\n",
            "526/526 [==============================] - 19s 37ms/step - loss: 3.7683e-06 - accuracy: 1.0000 - val_loss: 0.4033 - val_accuracy: 0.9763\n",
            "Epoch 19/20\n",
            "526/526 [==============================] - 19s 36ms/step - loss: 3.0895e-06 - accuracy: 1.0000 - val_loss: 0.3850 - val_accuracy: 0.9773\n",
            "Epoch 20/20\n",
            "526/526 [==============================] - 19s 36ms/step - loss: 6.9164e-07 - accuracy: 1.0000 - val_loss: 0.3815 - val_accuracy: 0.9773\n"
          ]
        },
        {
          "data": {
            "text/plain": [
              "<keras.callbacks.History at 0x7f14ace58390>"
            ]
          },
          "execution_count": 25,
          "metadata": {},
          "output_type": "execute_result"
        }
      ],
      "source": [
        "##Fitting the model\n",
        "classifier.fit_generator(\n",
        "    generator=x_train,steps_per_epoch = len(x_train), \n",
        "    epochs=20,validation_data=x_test,validation_steps = len(x_test)) # No of images in test set"
      ]
    },
    {
      "cell_type": "markdown",
      "source": [
        "**Save the model**"
      ],
      "metadata": {
        "id": "fGA792HURTaJ"
      }
    },
    {
      "cell_type": "code",
      "execution_count": 26,
      "metadata": {
        "id": "CVLN1jWs5pzl"
      },
      "outputs": [],
      "source": [
        "classifier.save('nutrition.h5')"
      ]
    },
    {
      "cell_type": "markdown",
      "source": [
        "**Test the model**"
      ],
      "metadata": {
        "id": "4fxAT7NYRZ--"
      }
    },
    {
      "cell_type": "code",
      "source": [
        "from tensorflow.keras.models import load_model\n",
        "from tensorflow.keras.preprocessing import image\n",
        "model = load_model(\"nutrition.h5\") "
      ],
      "metadata": {
        "id": "6uKCMNNxRgww"
      },
      "execution_count": 30,
      "outputs": []
    },
    {
      "cell_type": "code",
      "source": [
        "img=image.load_img('/content/drive/MyDrive/Dataset-20221115T060812Z-001/Dataset/TEST_SET/PINEAPPLE/0_100.jpg',target_size=(70,70))\n",
        "img"
      ],
      "metadata": {
        "colab": {
          "base_uri": "https://localhost:8080/",
          "height": 87
        },
        "id": "xuBn18PeRzni",
        "outputId": "e4f38e57-2ef3-49e9-dd87-09935f6623e2"
      },
      "execution_count": 31,
      "outputs": [
        {
          "output_type": "execute_result",
          "data": {
            "text/plain": [
              "<PIL.Image.Image image mode=RGB size=70x70 at 0x7F14ABE11290>"
            ],
            "image/png": "[encoded data removed]"
          },
          "metadata": {},
          "execution_count": 31
        }
      ]
    },
    {
      "cell_type": "code",
      "source": [
        "x = image.img_to_array(img)"
      ],
      "metadata": {
        "id": "Jxj1kR5rSy6d"
      },
      "execution_count": 32,
      "outputs": []
    },
    {
      "cell_type": "code",
      "source": [
        "x = np.expand_dims(x,axis=0)"
      ],
      "metadata": {
        "id": "EX8GKKthTEwn"
      },
      "execution_count": 33,
      "outputs": []
    },
    {
      "cell_type": "code",
      "source": [
        "index=['APPLES', 'BANANA', 'ORANGE','PINEAPPLE','WATERMELON']\n",
        "result=str(index[0])\n",
        "result\n"
      ],
      "metadata": {
        "colab": {
          "base_uri": "https://localhost:8080/",
          "height": 36
        },
        "id": "a9v3OjoqUKA6",
        "outputId": "408276b4-72af-4cf2-a094-69bc617bd3a7"
      },
      "execution_count": 42,
      "outputs": [
        {
          "output_type": "execute_result",
          "data": {
            "text/plain": [
              "'APPLES'"
            ],
            "application/vnd.google.colaboratory.intrinsic+json": {
              "type": "string"
            }
          },
          "metadata": {},
          "execution_count": 42
        }
      ]
    }
  ],
  "metadata": {
    "colab": {
      "provenance": []
    },
    "kernelspec": {
      "display_name": "Python 3",
      "name": "python3"
    },
    "language_info": {
      "name": "python"
    }
  },
  "nbformat": 4,
  "nbformat_minor": 0
}